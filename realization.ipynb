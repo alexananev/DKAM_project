{
 "cells": [
  {
   "cell_type": "code",
   "execution_count": 1,
   "metadata": {},
   "outputs": [],
   "source": [
    "import numpy as np\n",
    "import math"
   ]
  },
  {
   "cell_type": "code",
   "execution_count": 92,
   "metadata": {},
   "outputs": [],
   "source": [
    "def rand_angle(n):\n",
    "    z = np.random.uniform(0, 2, n-1)\n",
    "    teta = z*math.pi\n",
    "    return teta\n",
    "def ret_coord(teta):\n",
    "    n = teta.shape[0]+1\n",
    "    x = np.zeros(n)#problem     n-1\n",
    "    for i in range(n):\n",
    "        if i<2:\n",
    "            x[i] = math.sin(teta[0])*i + math.cos(teta[0])*(1-i)\n",
    "        else:\n",
    "            for j in range(i):\n",
    "                x[j] = x[j]*math.sin(teta[i-1])\n",
    "            x[i] = math.cos(teta[i-1])\n",
    "    return x\n",
    "def vec_RS2(n):\n",
    "    return ret_coord(rand_angle(n))\n",
    "def func(x):\n",
    "    return np.linalg.norm(x) ** 2\n",
    "def SAOG(x, m, f, t, e, noize_size):\n",
    "    #k - size of noze\n",
    "    s = 0\n",
    "    for i in range(m):\n",
    "        #print(t,(f(x+t*e)- f(x))/t)\n",
    "        s += (f(x+t*e)- f(x) + np.random.random()*noize_size)/t\n",
    "    s = s/m\n",
    "    return s*e"
   ]
  },
  {
   "cell_type": "code",
   "execution_count": 93,
   "metadata": {},
   "outputs": [
    {
     "name": "stdout",
     "output_type": "stream",
     "text": [
      "1.0\n",
      "Wall time: 28.4 ms\n"
     ]
    }
   ],
   "source": [
    "%%time\n",
    "num = 10**3\n",
    "sum = 0\n",
    "for i in range(num):\n",
    "    sum += np.linalg.norm(vec_RS2(2))\n",
    "print (sum / num)"
   ]
  },
  {
   "cell_type": "code",
   "execution_count": 94,
   "metadata": {},
   "outputs": [
    {
     "data": {
      "text/plain": [
       "array([ 0.00385042, -0.00503109, -0.03249455,  0.00176762,  0.06305694,\n",
       "       -0.04635244,  0.51100502,  0.66147092,  0.17148936,  0.58219429])"
      ]
     },
     "execution_count": 94,
     "metadata": {},
     "output_type": "execute_result"
    }
   ],
   "source": [
    "m = 10\n",
    "t = 10**(-4)\n",
    "n = 10\n",
    "x = np.random.uniform(0, 1, n)\n",
    "e = vec_RS2(n)\n",
    "k = t**2\n",
    "SAOG(x, m, func, t, e, k)"
   ]
  },
  {
   "cell_type": "code",
   "execution_count": 95,
   "metadata": {},
   "outputs": [
    {
     "name": "stdout",
     "output_type": "stream",
     "text": [
      "[ 0.99071756 -0.13593643]\n"
     ]
    }
   ],
   "source": [
    "print(vec_RS2(2))"
   ]
  },
  {
   "cell_type": "code",
   "execution_count": 96,
   "metadata": {},
   "outputs": [],
   "source": [
    "class function(object):\n",
    "    def __init__(self,A,b):\n",
    "        self.A = A\n",
    "        self.b = b\n",
    "    def f(self,x):\n",
    "        return np.linalg.norm(np.dot(A,x) - b)"
   ]
  },
  {
   "cell_type": "code",
   "execution_count": 120,
   "metadata": {},
   "outputs": [],
   "source": [
    "def method1(f,x0, N, m, t,L,q=2,noize_size = 0):\n",
    "    n = len(x0)\n",
    "    rho = min([q-1,16*np.log(n)-8])*n**(2/q-1)\n",
    "    alpha = 1 / (48 * n * rho * L)\n",
    "    x = np.empty((N,n))\n",
    "    x[0] = x0\n",
    "    for i in range(N):\n",
    "        e = vec_RS2(n)\n",
    "       # print(e, SAOG(x[i-1],m,f,t,e,noize_size))\n",
    "        x[i] = x[i-1] - 1/L * SAOG(x[i-1],m,f,t,e,noize_size)\n",
    "    return x.mean(axis=0)"
   ]
  },
  {
   "cell_type": "code",
   "execution_count": null,
   "metadata": {},
   "outputs": [],
   "source": [
    "def acc_method(f,x0, N, m, t,L,q=2,noize_size = 0)"
   ]
  },
  {
   "cell_type": "code",
   "execution_count": 113,
   "metadata": {},
   "outputs": [],
   "source": [
    "A = np.array([[1,0],[0,1]])\n",
    "b = np.array([0,1])"
   ]
  },
  {
   "cell_type": "code",
   "execution_count": 114,
   "metadata": {},
   "outputs": [],
   "source": [
    "F = function(A,b)"
   ]
  },
  {
   "cell_type": "code",
   "execution_count": 115,
   "metadata": {},
   "outputs": [],
   "source": [
    "func = F.f"
   ]
  },
  {
   "cell_type": "code",
   "execution_count": 116,
   "metadata": {},
   "outputs": [],
   "source": [
    "x0 = np.array([1,1])"
   ]
  },
  {
   "cell_type": "code",
   "execution_count": 121,
   "metadata": {},
   "outputs": [
    {
     "data": {
      "text/plain": [
       "array([ 0.00130065,  0.99650354])"
      ]
     },
     "execution_count": 121,
     "metadata": {},
     "output_type": "execute_result"
    }
   ],
   "source": [
    "method1(func,x0,1000,100,0.001,1)"
   ]
  },
  {
   "cell_type": "code",
   "execution_count": null,
   "metadata": {},
   "outputs": [],
   "source": []
  },
  {
   "cell_type": "code",
   "execution_count": null,
   "metadata": {},
   "outputs": [],
   "source": []
  }
 ],
 "metadata": {
  "kernelspec": {
   "display_name": "Python 3",
   "language": "python",
   "name": "python3"
  },
  "language_info": {
   "codemirror_mode": {
    "name": "ipython",
    "version": 3
   },
   "file_extension": ".py",
   "mimetype": "text/x-python",
   "name": "python",
   "nbconvert_exporter": "python",
   "pygments_lexer": "ipython3",
   "version": "3.7.0"
  }
 },
 "nbformat": 4,
 "nbformat_minor": 2
}
